import openpyxl 
import os 

def search_excel_files(folder_path, lookup_values, output_file):
    output_data = []
    files = os.listdir(folder_path) 

    excel_files = [file for file in files if file.endswith('.xlsx')]

    for file in excel_files:
        file_path = os.path.join(folder_path, file) #define file path where?
        print(f"Loading workbook: {file_path}")
        workbook = openpyxl.load_workbook(file_path)
        workbook_data = []

        for lookup_value in lookup_values:
            match_found = False
            match_values = [lookup_value]

            for sheet_name in workbook.sheetnames:
                sheet = workbook[sheet_name]
                for row in sheet.iter_rows():
                    for cell in row:
                        if cell.value == lookup_value:
                            match_found = True
                            match_row = row
                            match_column = openpyxl.utils.get_column_letter(cell.column)
                            break
                    if match_found:
                        break
                if match_found:
                    break

            if match_found:
                for offset in range(1, 3):  # Adjust the range as per your requirement (2 to 3 columns)
                    column_index = openpyxl.utils.column_index_from_string(match_column) + offset
                    column_letter = openpyxl.utils.get_column_letter(column_index)
                    match_values.append(sheet[column_letter + str(match_row[0].row)].value)
            else:
                match_values.extend(['0'] * 2)  # Customize the number of 'None' values to match the range

            workbook_data.append(match_values)

        workbook.close()
        output_data.append('\t'.join(str(value) for match_values in workbook_data for value in match_values))

    with open(output_file, 'w') as f:
        f.write('\n'.join(output_data))
    print(f"Matched values from multiple workbooks have been saved in {output_file}")

# Example usage:
folder_path = '/Users/nesyfitria/Documents/2022/tahunan'  # Folder path containing the Excel files
lookup_values = [
    'Nama entitas',
    'Kode entitas',
    'Jumlah aset'
    # Add other lookup values here
]
output_file = '/Users/nesyfitria/Documents/2022.txt'
search_excel_files(folder_path, lookup_values, output_file)

